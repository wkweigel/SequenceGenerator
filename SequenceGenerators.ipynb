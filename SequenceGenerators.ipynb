{
 "cells": [
  {
   "cell_type": "code",
   "execution_count": null,
   "metadata": {},
   "outputs": [],
   "source": [
    "import sequences as seq\n",
    "import random"
   ]
  },
  {
   "attachments": {},
   "cell_type": "markdown",
   "metadata": {},
   "source": [
    "Generate 3mer Sequences"
   ]
  },
  {
   "cell_type": "code",
   "execution_count": null,
   "metadata": {},
   "outputs": [],
   "source": [
    "#Generate a list of all combinatorial 3mer sequences\n",
    "DNA3mers=seq.generate_3mers()\n",
    "\n",
    "#Shuffle the list of sequences\n",
    "#The filtering algorithm will return diffrent results based on the order of the sequences\n",
    "random.shuffle(DNA3mers)\n",
    "\n",
    "#Filter the sequences to remove any 3peat sequences and sequences that are not unique at two or more positions\n",
    "filtered_3mer_dict=seq.get_filtered_dict(DNA3mers)\n",
    "\n",
    "#Output the filtered sequences to a csv file\n",
    "seq.output_final_sequences(filtered_3mer_dict)"
   ]
  },
  {
   "attachments": {},
   "cell_type": "markdown",
   "metadata": {},
   "source": [
    "Generate 4mer Sequences"
   ]
  },
  {
   "cell_type": "code",
   "execution_count": null,
   "metadata": {},
   "outputs": [],
   "source": [
    "#Generate a list of all combinatorial 4mer sequences\n",
    "DNA4mers=seq.generate_4mers()\n",
    "\n",
    "#Shuffle the list of sequences\n",
    "#The filtering algorithm will return diffrent results based on the order of the sequences\n",
    "random.shuffle(DNA4mers)\n",
    "\n",
    "#Filter the sequences to remove any 3peat sequences and sequences that are not unique at two or more positions\n",
    "filtered_4mer_dict=seq.get_filtered_dict(DNA4mers)\n",
    "\n",
    "#Output the filtered sequences to a csv file\n",
    "seq.output_final_sequences(filtered_4mer_dict)"
   ]
  },
  {
   "attachments": {},
   "cell_type": "markdown",
   "metadata": {},
   "source": [
    "Generate 5mer Sequences"
   ]
  },
  {
   "cell_type": "code",
   "execution_count": null,
   "metadata": {},
   "outputs": [],
   "source": [
    "#Generate a list of all combinatorial 5mer sequences\n",
    "DNA5mers=seq.generate_5mers()\n",
    "\n",
    "#Shuffle the list of sequences\n",
    "#The filtering algorithm will return diffrent results based on the order of the sequences\n",
    "random.shuffle(DNA5mers)\n",
    "\n",
    "#Filter the sequences to remove any 3peat sequences and sequences that are not unique at two or more positions\n",
    "filtered_5mer_dict=seq.get_filtered_dict(DNA5mers)\n",
    "\n",
    "#Output the filtered sequences to a csv file\n",
    "seq.output_final_sequences(filtered_5mer_dict)"
   ]
  },
  {
   "attachments": {},
   "cell_type": "markdown",
   "metadata": {},
   "source": [
    "Generate 6mer Sequences"
   ]
  },
  {
   "cell_type": "code",
   "execution_count": null,
   "metadata": {},
   "outputs": [],
   "source": [
    "#Generate a list of all combinatorial 6mer sequences\n",
    "DNA6mers=seq.generate_6mers()\n",
    "\n",
    "#Shuffle the list of sequences\n",
    "#The filtering algorithm will return diffrent results based on the order of the sequences\n",
    "random.shuffle(DNA6mers)\n",
    "\n",
    "#Filter the sequences to remove any 3peat sequences and sequences that are not unique at two or more positions\n",
    "filtered_6mer_dict=seq.get_filtered_dict(DNA6mers)\n",
    "\n",
    "#Output the filtered sequences to a csv file\n",
    "seq.output_final_sequences(filtered_6mer_dict)"
   ]
  },
  {
   "attachments": {},
   "cell_type": "markdown",
   "metadata": {},
   "source": [
    "Generate 7mer Sequences"
   ]
  },
  {
   "cell_type": "code",
   "execution_count": null,
   "metadata": {},
   "outputs": [],
   "source": [
    "#Generate a list of all combinatorial 7mer sequences\n",
    "DNA7mers=seq.generate_7mers()\n",
    "\n",
    "#Shuffle the list of sequences\n",
    "#The filtering algorithm will return diffrent results based on the order of the sequences\n",
    "random.shuffle(DNA7mers)\n",
    "\n",
    "#Filter the sequences to remove any 3peat sequences and sequences that are not unique at two or more positions\n",
    "filtered_7mer_dict=seq.get_filtered_dict(DNA7mers)\n",
    "\n",
    "#Output the filtered sequences to a csv file\n",
    "seq.output_final_sequences(filtered_7mer_dict)"
   ]
  },
  {
   "attachments": {},
   "cell_type": "markdown",
   "metadata": {},
   "source": [
    "Generate 8mer Sequences"
   ]
  },
  {
   "cell_type": "code",
   "execution_count": null,
   "metadata": {},
   "outputs": [],
   "source": [
    "#Generate a list of all combinatorial 8mer sequences\n",
    "DNA8mers=seq.generate_8mers()\n",
    "\n",
    "#Shuffle the list of sequences\n",
    "#The filtering algorithm will return diffrent results based on the order of the sequences\n",
    "random.shuffle(DNA8mers)\n",
    "\n",
    "#Filter the sequences to remove any 3peat sequences and sequences that are not unique at two or more positions\n",
    "filtered_8mer_dict=seq.get_filtered_dict(DNA8mers)\n",
    "\n",
    "#Output the filtered sequences to a csv file\n",
    "seq.output_final_sequences(filtered_8mer_dict)"
   ]
  }
 ],
 "metadata": {
  "kernelspec": {
   "display_name": "base",
   "language": "python",
   "name": "python3"
  },
  "language_info": {
   "codemirror_mode": {
    "name": "ipython",
    "version": 3
   },
   "file_extension": ".py",
   "mimetype": "text/x-python",
   "name": "python",
   "nbconvert_exporter": "python",
   "pygments_lexer": "ipython3",
   "version": "3.10.7"
  },
  "orig_nbformat": 4,
  "vscode": {
   "interpreter": {
    "hash": "8542e3171832156c2005c5740ca8db0c037c98d76624ff13ee8c5b22b8f4ae1b"
   }
  }
 },
 "nbformat": 4,
 "nbformat_minor": 2
}

{
  "cells": [
    {
      "cell_type": "markdown",
      "metadata": {
        "id": "view-in-github",
        "colab_type": "text"
      },
      "source": [
        "<a href=\"https://colab.research.google.com/github/wkweigel/SequenceGenerator/blob/main/SequenceGenerators_colab.ipynb\" target=\"_parent\"><img src=\"https://colab.research.google.com/assets/colab-badge.svg\" alt=\"Open In Colab\"/></a>"
      ]
    },
    {
      "cell_type": "markdown",
      "source": [
        "Clone the required repo into colab"
      ],
      "metadata": {
        "id": "hHXhDuQbcAn4"
      }
    },
    {
      "cell_type": "code",
      "source": [
        "!git clone https://github.com/wkweigel/SequenceGenerator.git\n",
        "from SequenceGenerator import sequences as seq\n",
        "import random"
      ],
      "metadata": {
        "colab": {
          "base_uri": "https://localhost:8080/"
        },
        "id": "BiyLvOhzEyJh",
        "outputId": "c54bf20f-461c-480e-c1d4-685bcd9b25d6"
      },
      "execution_count": 5,
      "outputs": [
        {
          "output_type": "stream",
          "name": "stdout",
          "text": [
            "fatal: destination path 'SequenceGenerator' already exists and is not an empty directory.\n"
          ]
        }
      ]
    },
    {
      "cell_type": "markdown",
      "metadata": {
        "id": "-lWSo8FdD2Qi"
      },
      "source": [
        "Generate 3mer Sequences"
      ]
    },
    {
      "cell_type": "code",
      "execution_count": 9,
      "metadata": {
        "id": "5fBvG8PGD2Qj",
        "colab": {
          "base_uri": "https://localhost:8080/"
        },
        "outputId": "2fd92b07-ae16-495e-d030-e0415aa498f0"
      },
      "outputs": [
        {
          "output_type": "stream",
          "name": "stdout",
          "text": [
            "Generated a list of 14 sequences\n"
          ]
        }
      ],
      "source": [
        "#Generate a list of all combinatorial 3mer sequences\n",
        "DNA3mers=seq.generate_3mers()\n",
        "\n",
        "#Shuffle the list of sequences\n",
        "#The filtering algorithm will return diffrent results based on the order of the sequences\n",
        "random.shuffle(DNA3mers)\n",
        "\n",
        "#Filter the sequences to remove any 3peat sequences and sequences that are not unique at two or more positions\n",
        "filtered_3mer_dict=seq.get_filtered_dict(DNA3mers)\n",
        "\n",
        "#Output the filtered sequences to a csv file\n",
        "seq.output_final_sequences(filtered_3mer_dict)"
      ]
    },
    {
      "cell_type": "markdown",
      "metadata": {
        "id": "8xQzK9AAD2Qj"
      },
      "source": [
        "Generate 4mer Sequences"
      ]
    },
    {
      "cell_type": "code",
      "execution_count": null,
      "metadata": {
        "id": "Hz4c9E_RD2Qj"
      },
      "outputs": [],
      "source": [
        "#Generate a list of all combinatorial 4mer sequences\n",
        "DNA4mers=seq.generate_4mers()\n",
        "\n",
        "#Shuffle the list of sequences\n",
        "#The filtering algorithm will return diffrent results based on the order of the sequences\n",
        "random.shuffle(DNA4mers)\n",
        "\n",
        "#Filter the sequences to remove any 3peat sequences and sequences that are not unique at two or more positions\n",
        "filtered_4mer_dict=seq.get_filtered_dict(DNA4mers)\n",
        "\n",
        "#Output the filtered sequences to a csv file\n",
        "seq.output_final_sequences(filtered_4mer_dict)"
      ]
    },
    {
      "cell_type": "markdown",
      "metadata": {
        "id": "UzRYTAzoD2Qk"
      },
      "source": [
        "Generate 5mer Sequences"
      ]
    },
    {
      "cell_type": "code",
      "execution_count": null,
      "metadata": {
        "id": "fH73UyDWD2Qk"
      },
      "outputs": [],
      "source": [
        "#Generate a list of all combinatorial 5mer sequences\n",
        "DNA5mers=seq.generate_5mers()\n",
        "\n",
        "#Shuffle the list of sequences\n",
        "#The filtering algorithm will return diffrent results based on the order of the sequences\n",
        "random.shuffle(DNA5mers)\n",
        "\n",
        "#Filter the sequences to remove any 3peat sequences and sequences that are not unique at two or more positions\n",
        "filtered_5mer_dict=seq.get_filtered_dict(DNA5mers)\n",
        "\n",
        "#Output the filtered sequences to a csv file\n",
        "seq.output_final_sequences(filtered_5mer_dict)"
      ]
    },
    {
      "cell_type": "markdown",
      "metadata": {
        "id": "wRn_W4oJD2Qk"
      },
      "source": [
        "Generate 6mer Sequences"
      ]
    },
    {
      "cell_type": "code",
      "execution_count": null,
      "metadata": {
        "id": "F88JHxxOD2Qk"
      },
      "outputs": [],
      "source": [
        "#Generate a list of all combinatorial 6mer sequences\n",
        "DNA6mers=seq.generate_6mers()\n",
        "\n",
        "#Shuffle the list of sequences\n",
        "#The filtering algorithm will return different results based on the order of the sequences\n",
        "random.shuffle(DNA6mers)\n",
        "\n",
        "#Filter the sequences to remove any 3peat sequences and sequences that are not unique at two or more positions\n",
        "filtered_6mer_dict=seq.get_filtered_dict(DNA6mers)\n",
        "\n",
        "#Output the filtered sequences to a csv file\n",
        "seq.output_final_sequences(filtered_6mer_dict)"
      ]
    },
    {
      "cell_type": "markdown",
      "metadata": {
        "id": "HQ-wzBnPD2Ql"
      },
      "source": [
        "Generate 7mer Sequences (unique at >2 positions)"
      ]
    },
    {
      "cell_type": "code",
      "execution_count": null,
      "metadata": {
        "id": "_-acpOo6D2Ql",
        "outputId": "ca7d95a9-ef03-46cc-8adb-23293dbdabc9"
      },
      "outputs": [
        {
          "name": "stdout",
          "output_type": "stream",
          "text": [
            "Generated a list of 1802 sequences\n"
          ]
        }
      ],
      "source": [
        "#Generate a list of all combinatorial 7mer sequences\n",
        "DNA7mers=seq.generate_7mers()\n",
        "\n",
        "#Shuffle the list of sequences\n",
        "#The filtering algorithm will return different results based on the order of the sequences\n",
        "random.shuffle(DNA7mers)\n",
        "\n",
        "#Filter the sequences to remove any 3peat sequences and sequences that are not unique at TWO or more positions\n",
        "filtered_7mer_dict=seq.get_filtered_dict(DNA7mers)\n",
        "\n",
        "#Output the filtered sequences to a csv file\n",
        "seq.output_final_sequences(filtered_7mer_dict)"
      ]
    },
    {
      "cell_type": "markdown",
      "metadata": {
        "id": "V-mLexvSD2Ql"
      },
      "source": [
        "Generate 7mer Sequences (unique at >3 positions)"
      ]
    },
    {
      "cell_type": "code",
      "execution_count": null,
      "metadata": {
        "id": "OvC9e82DD2Ql",
        "outputId": "d75c24a4-7648-48f9-a250-36e48b6f46fd"
      },
      "outputs": [
        {
          "name": "stdout",
          "output_type": "stream",
          "text": [
            "Generated a list of 271 sequences\n"
          ]
        }
      ],
      "source": [
        "#Generate a list of all combinatorial 7mer sequences\n",
        "DNA7mers=seq.generate_7mers()\n",
        "\n",
        "#Shuffle the list of sequences\n",
        "#The filtering algorithm will return different results based on the order of the sequences\n",
        "random.shuffle(DNA7mers)\n",
        "\n",
        "#Filter the sequences to remove any 3peat sequences and sequences that are not unique at THREE or more positions\n",
        "filtered_7mer_dict=seq.get_filtered_dict(DNA7mers,strict=True) #Pass the \"strict\" boolean to make the filter require 3 unique positions\n",
        "\n",
        "#Output the filtered sequences to a csv file\n",
        "seq.output_final_sequences(filtered_7mer_dict)"
      ]
    },
    {
      "cell_type": "markdown",
      "metadata": {
        "id": "xeFxPNcXD2Qm"
      },
      "source": [
        "Generate 8mer Sequences"
      ]
    },
    {
      "cell_type": "code",
      "execution_count": null,
      "metadata": {
        "id": "v0FYTI-3D2Qm"
      },
      "outputs": [],
      "source": [
        "#Generate a list of all combinatorial 8mer sequences\n",
        "DNA8mers=seq.generate_8mers()\n",
        "\n",
        "#Shuffle the list of sequences\n",
        "#The filtering algorithm will return diffrent results based on the order of the sequences\n",
        "random.shuffle(DNA8mers)\n",
        "\n",
        "#Filter the sequences to remove any 3peat sequences and sequences that are not unique at two or more positions\n",
        "filtered_8mer_dict=seq.get_filtered_dict(DNA8mers)\n",
        "\n",
        "#Output the filtered sequences to a csv file\n",
        "seq.output_final_sequences(filtered_8mer_dict)"
      ]
    }
  ],
  "metadata": {
    "kernelspec": {
      "display_name": "base",
      "language": "python",
      "name": "python3"
    },
    "language_info": {
      "codemirror_mode": {
        "name": "ipython",
        "version": 3
      },
      "file_extension": ".py",
      "mimetype": "text/x-python",
      "name": "python",
      "nbconvert_exporter": "python",
      "pygments_lexer": "ipython3",
      "version": "3.11.0"
    },
    "orig_nbformat": 4,
    "vscode": {
      "interpreter": {
        "hash": "8542e3171832156c2005c5740ca8db0c037c98d76624ff13ee8c5b22b8f4ae1b"
      }
    },
    "colab": {
      "provenance": [],
      "include_colab_link": true
    }
  },
  "nbformat": 4,
  "nbformat_minor": 0
}